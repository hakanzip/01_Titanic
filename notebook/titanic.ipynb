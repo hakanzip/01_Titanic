{
 "cells": [
  {
   "cell_type": "code",
   "execution_count": 1,
   "id": "87130b2b",
   "metadata": {},
   "outputs": [],
   "source": [
    "import pandas as pd\n",
    "import numpy as np\n",
    "import matplotlib.pyplot as plt\n",
    "import seaborn as sns"
   ]
  },
  {
   "cell_type": "markdown",
   "id": "1d3e2552",
   "metadata": {},
   "source": [
    "Gerekli kütüphanalerin yüklenmesi:\n",
    "Pandas- Veri okuma, düzenleme, analiz işlemleri için\n",
    "Numpy- Sayısal işlemler, ve diziler için\n",
    "Matplotlib- Grafik oluşturma için\n",
    "Seaborn- İstatistiksel veri görselleştirmeleri için"
   ]
  },
  {
   "cell_type": "code",
   "execution_count": 2,
   "id": "80ee1c9c",
   "metadata": {},
   "outputs": [
    {
     "ename": "FileNotFoundError",
     "evalue": "[Errno 2] No such file or directory: 'train.csv'",
     "output_type": "error",
     "traceback": [
      "\u001b[0;31m---------------------------------------------------------------------------\u001b[0m",
      "\u001b[0;31mFileNotFoundError\u001b[0m                         Traceback (most recent call last)",
      "Cell \u001b[0;32mIn[2], line 1\u001b[0m\n\u001b[0;32m----> 1\u001b[0m p1titanic\u001b[38;5;241m=\u001b[39m \u001b[43mpd\u001b[49m\u001b[38;5;241;43m.\u001b[39;49m\u001b[43mread_csv\u001b[49m\u001b[43m(\u001b[49m\u001b[38;5;124;43m\"\u001b[39;49m\u001b[38;5;124;43mtrain.csv\u001b[39;49m\u001b[38;5;124;43m\"\u001b[39;49m\u001b[43m)\u001b[49m\n\u001b[1;32m      2\u001b[0m p1titanic\u001b[38;5;241m.\u001b[39mhead(\u001b[38;5;241m10\u001b[39m)\n",
      "File \u001b[0;32m~/Library/Python/3.9/lib/python/site-packages/pandas/io/parsers/readers.py:1026\u001b[0m, in \u001b[0;36mread_csv\u001b[0;34m(filepath_or_buffer, sep, delimiter, header, names, index_col, usecols, dtype, engine, converters, true_values, false_values, skipinitialspace, skiprows, skipfooter, nrows, na_values, keep_default_na, na_filter, verbose, skip_blank_lines, parse_dates, infer_datetime_format, keep_date_col, date_parser, date_format, dayfirst, cache_dates, iterator, chunksize, compression, thousands, decimal, lineterminator, quotechar, quoting, doublequote, escapechar, comment, encoding, encoding_errors, dialect, on_bad_lines, delim_whitespace, low_memory, memory_map, float_precision, storage_options, dtype_backend)\u001b[0m\n\u001b[1;32m   1013\u001b[0m kwds_defaults \u001b[38;5;241m=\u001b[39m _refine_defaults_read(\n\u001b[1;32m   1014\u001b[0m     dialect,\n\u001b[1;32m   1015\u001b[0m     delimiter,\n\u001b[0;32m   (...)\u001b[0m\n\u001b[1;32m   1022\u001b[0m     dtype_backend\u001b[38;5;241m=\u001b[39mdtype_backend,\n\u001b[1;32m   1023\u001b[0m )\n\u001b[1;32m   1024\u001b[0m kwds\u001b[38;5;241m.\u001b[39mupdate(kwds_defaults)\n\u001b[0;32m-> 1026\u001b[0m \u001b[38;5;28;01mreturn\u001b[39;00m \u001b[43m_read\u001b[49m\u001b[43m(\u001b[49m\u001b[43mfilepath_or_buffer\u001b[49m\u001b[43m,\u001b[49m\u001b[43m \u001b[49m\u001b[43mkwds\u001b[49m\u001b[43m)\u001b[49m\n",
      "File \u001b[0;32m~/Library/Python/3.9/lib/python/site-packages/pandas/io/parsers/readers.py:620\u001b[0m, in \u001b[0;36m_read\u001b[0;34m(filepath_or_buffer, kwds)\u001b[0m\n\u001b[1;32m    617\u001b[0m _validate_names(kwds\u001b[38;5;241m.\u001b[39mget(\u001b[38;5;124m\"\u001b[39m\u001b[38;5;124mnames\u001b[39m\u001b[38;5;124m\"\u001b[39m, \u001b[38;5;28;01mNone\u001b[39;00m))\n\u001b[1;32m    619\u001b[0m \u001b[38;5;66;03m# Create the parser.\u001b[39;00m\n\u001b[0;32m--> 620\u001b[0m parser \u001b[38;5;241m=\u001b[39m \u001b[43mTextFileReader\u001b[49m\u001b[43m(\u001b[49m\u001b[43mfilepath_or_buffer\u001b[49m\u001b[43m,\u001b[49m\u001b[43m \u001b[49m\u001b[38;5;241;43m*\u001b[39;49m\u001b[38;5;241;43m*\u001b[39;49m\u001b[43mkwds\u001b[49m\u001b[43m)\u001b[49m\n\u001b[1;32m    622\u001b[0m \u001b[38;5;28;01mif\u001b[39;00m chunksize \u001b[38;5;129;01mor\u001b[39;00m iterator:\n\u001b[1;32m    623\u001b[0m     \u001b[38;5;28;01mreturn\u001b[39;00m parser\n",
      "File \u001b[0;32m~/Library/Python/3.9/lib/python/site-packages/pandas/io/parsers/readers.py:1620\u001b[0m, in \u001b[0;36mTextFileReader.__init__\u001b[0;34m(self, f, engine, **kwds)\u001b[0m\n\u001b[1;32m   1617\u001b[0m     \u001b[38;5;28mself\u001b[39m\u001b[38;5;241m.\u001b[39moptions[\u001b[38;5;124m\"\u001b[39m\u001b[38;5;124mhas_index_names\u001b[39m\u001b[38;5;124m\"\u001b[39m] \u001b[38;5;241m=\u001b[39m kwds[\u001b[38;5;124m\"\u001b[39m\u001b[38;5;124mhas_index_names\u001b[39m\u001b[38;5;124m\"\u001b[39m]\n\u001b[1;32m   1619\u001b[0m \u001b[38;5;28mself\u001b[39m\u001b[38;5;241m.\u001b[39mhandles: IOHandles \u001b[38;5;241m|\u001b[39m \u001b[38;5;28;01mNone\u001b[39;00m \u001b[38;5;241m=\u001b[39m \u001b[38;5;28;01mNone\u001b[39;00m\n\u001b[0;32m-> 1620\u001b[0m \u001b[38;5;28mself\u001b[39m\u001b[38;5;241m.\u001b[39m_engine \u001b[38;5;241m=\u001b[39m \u001b[38;5;28;43mself\u001b[39;49m\u001b[38;5;241;43m.\u001b[39;49m\u001b[43m_make_engine\u001b[49m\u001b[43m(\u001b[49m\u001b[43mf\u001b[49m\u001b[43m,\u001b[49m\u001b[43m \u001b[49m\u001b[38;5;28;43mself\u001b[39;49m\u001b[38;5;241;43m.\u001b[39;49m\u001b[43mengine\u001b[49m\u001b[43m)\u001b[49m\n",
      "File \u001b[0;32m~/Library/Python/3.9/lib/python/site-packages/pandas/io/parsers/readers.py:1880\u001b[0m, in \u001b[0;36mTextFileReader._make_engine\u001b[0;34m(self, f, engine)\u001b[0m\n\u001b[1;32m   1878\u001b[0m     \u001b[38;5;28;01mif\u001b[39;00m \u001b[38;5;124m\"\u001b[39m\u001b[38;5;124mb\u001b[39m\u001b[38;5;124m\"\u001b[39m \u001b[38;5;129;01mnot\u001b[39;00m \u001b[38;5;129;01min\u001b[39;00m mode:\n\u001b[1;32m   1879\u001b[0m         mode \u001b[38;5;241m+\u001b[39m\u001b[38;5;241m=\u001b[39m \u001b[38;5;124m\"\u001b[39m\u001b[38;5;124mb\u001b[39m\u001b[38;5;124m\"\u001b[39m\n\u001b[0;32m-> 1880\u001b[0m \u001b[38;5;28mself\u001b[39m\u001b[38;5;241m.\u001b[39mhandles \u001b[38;5;241m=\u001b[39m \u001b[43mget_handle\u001b[49m\u001b[43m(\u001b[49m\n\u001b[1;32m   1881\u001b[0m \u001b[43m    \u001b[49m\u001b[43mf\u001b[49m\u001b[43m,\u001b[49m\n\u001b[1;32m   1882\u001b[0m \u001b[43m    \u001b[49m\u001b[43mmode\u001b[49m\u001b[43m,\u001b[49m\n\u001b[1;32m   1883\u001b[0m \u001b[43m    \u001b[49m\u001b[43mencoding\u001b[49m\u001b[38;5;241;43m=\u001b[39;49m\u001b[38;5;28;43mself\u001b[39;49m\u001b[38;5;241;43m.\u001b[39;49m\u001b[43moptions\u001b[49m\u001b[38;5;241;43m.\u001b[39;49m\u001b[43mget\u001b[49m\u001b[43m(\u001b[49m\u001b[38;5;124;43m\"\u001b[39;49m\u001b[38;5;124;43mencoding\u001b[39;49m\u001b[38;5;124;43m\"\u001b[39;49m\u001b[43m,\u001b[49m\u001b[43m \u001b[49m\u001b[38;5;28;43;01mNone\u001b[39;49;00m\u001b[43m)\u001b[49m\u001b[43m,\u001b[49m\n\u001b[1;32m   1884\u001b[0m \u001b[43m    \u001b[49m\u001b[43mcompression\u001b[49m\u001b[38;5;241;43m=\u001b[39;49m\u001b[38;5;28;43mself\u001b[39;49m\u001b[38;5;241;43m.\u001b[39;49m\u001b[43moptions\u001b[49m\u001b[38;5;241;43m.\u001b[39;49m\u001b[43mget\u001b[49m\u001b[43m(\u001b[49m\u001b[38;5;124;43m\"\u001b[39;49m\u001b[38;5;124;43mcompression\u001b[39;49m\u001b[38;5;124;43m\"\u001b[39;49m\u001b[43m,\u001b[49m\u001b[43m \u001b[49m\u001b[38;5;28;43;01mNone\u001b[39;49;00m\u001b[43m)\u001b[49m\u001b[43m,\u001b[49m\n\u001b[1;32m   1885\u001b[0m \u001b[43m    \u001b[49m\u001b[43mmemory_map\u001b[49m\u001b[38;5;241;43m=\u001b[39;49m\u001b[38;5;28;43mself\u001b[39;49m\u001b[38;5;241;43m.\u001b[39;49m\u001b[43moptions\u001b[49m\u001b[38;5;241;43m.\u001b[39;49m\u001b[43mget\u001b[49m\u001b[43m(\u001b[49m\u001b[38;5;124;43m\"\u001b[39;49m\u001b[38;5;124;43mmemory_map\u001b[39;49m\u001b[38;5;124;43m\"\u001b[39;49m\u001b[43m,\u001b[49m\u001b[43m \u001b[49m\u001b[38;5;28;43;01mFalse\u001b[39;49;00m\u001b[43m)\u001b[49m\u001b[43m,\u001b[49m\n\u001b[1;32m   1886\u001b[0m \u001b[43m    \u001b[49m\u001b[43mis_text\u001b[49m\u001b[38;5;241;43m=\u001b[39;49m\u001b[43mis_text\u001b[49m\u001b[43m,\u001b[49m\n\u001b[1;32m   1887\u001b[0m \u001b[43m    \u001b[49m\u001b[43merrors\u001b[49m\u001b[38;5;241;43m=\u001b[39;49m\u001b[38;5;28;43mself\u001b[39;49m\u001b[38;5;241;43m.\u001b[39;49m\u001b[43moptions\u001b[49m\u001b[38;5;241;43m.\u001b[39;49m\u001b[43mget\u001b[49m\u001b[43m(\u001b[49m\u001b[38;5;124;43m\"\u001b[39;49m\u001b[38;5;124;43mencoding_errors\u001b[39;49m\u001b[38;5;124;43m\"\u001b[39;49m\u001b[43m,\u001b[49m\u001b[43m \u001b[49m\u001b[38;5;124;43m\"\u001b[39;49m\u001b[38;5;124;43mstrict\u001b[39;49m\u001b[38;5;124;43m\"\u001b[39;49m\u001b[43m)\u001b[49m\u001b[43m,\u001b[49m\n\u001b[1;32m   1888\u001b[0m \u001b[43m    \u001b[49m\u001b[43mstorage_options\u001b[49m\u001b[38;5;241;43m=\u001b[39;49m\u001b[38;5;28;43mself\u001b[39;49m\u001b[38;5;241;43m.\u001b[39;49m\u001b[43moptions\u001b[49m\u001b[38;5;241;43m.\u001b[39;49m\u001b[43mget\u001b[49m\u001b[43m(\u001b[49m\u001b[38;5;124;43m\"\u001b[39;49m\u001b[38;5;124;43mstorage_options\u001b[39;49m\u001b[38;5;124;43m\"\u001b[39;49m\u001b[43m,\u001b[49m\u001b[43m \u001b[49m\u001b[38;5;28;43;01mNone\u001b[39;49;00m\u001b[43m)\u001b[49m\u001b[43m,\u001b[49m\n\u001b[1;32m   1889\u001b[0m \u001b[43m\u001b[49m\u001b[43m)\u001b[49m\n\u001b[1;32m   1890\u001b[0m \u001b[38;5;28;01massert\u001b[39;00m \u001b[38;5;28mself\u001b[39m\u001b[38;5;241m.\u001b[39mhandles \u001b[38;5;129;01mis\u001b[39;00m \u001b[38;5;129;01mnot\u001b[39;00m \u001b[38;5;28;01mNone\u001b[39;00m\n\u001b[1;32m   1891\u001b[0m f \u001b[38;5;241m=\u001b[39m \u001b[38;5;28mself\u001b[39m\u001b[38;5;241m.\u001b[39mhandles\u001b[38;5;241m.\u001b[39mhandle\n",
      "File \u001b[0;32m~/Library/Python/3.9/lib/python/site-packages/pandas/io/common.py:873\u001b[0m, in \u001b[0;36mget_handle\u001b[0;34m(path_or_buf, mode, encoding, compression, memory_map, is_text, errors, storage_options)\u001b[0m\n\u001b[1;32m    868\u001b[0m \u001b[38;5;28;01melif\u001b[39;00m \u001b[38;5;28misinstance\u001b[39m(handle, \u001b[38;5;28mstr\u001b[39m):\n\u001b[1;32m    869\u001b[0m     \u001b[38;5;66;03m# Check whether the filename is to be opened in binary mode.\u001b[39;00m\n\u001b[1;32m    870\u001b[0m     \u001b[38;5;66;03m# Binary mode does not support 'encoding' and 'newline'.\u001b[39;00m\n\u001b[1;32m    871\u001b[0m     \u001b[38;5;28;01mif\u001b[39;00m ioargs\u001b[38;5;241m.\u001b[39mencoding \u001b[38;5;129;01mand\u001b[39;00m \u001b[38;5;124m\"\u001b[39m\u001b[38;5;124mb\u001b[39m\u001b[38;5;124m\"\u001b[39m \u001b[38;5;129;01mnot\u001b[39;00m \u001b[38;5;129;01min\u001b[39;00m ioargs\u001b[38;5;241m.\u001b[39mmode:\n\u001b[1;32m    872\u001b[0m         \u001b[38;5;66;03m# Encoding\u001b[39;00m\n\u001b[0;32m--> 873\u001b[0m         handle \u001b[38;5;241m=\u001b[39m \u001b[38;5;28;43mopen\u001b[39;49m\u001b[43m(\u001b[49m\n\u001b[1;32m    874\u001b[0m \u001b[43m            \u001b[49m\u001b[43mhandle\u001b[49m\u001b[43m,\u001b[49m\n\u001b[1;32m    875\u001b[0m \u001b[43m            \u001b[49m\u001b[43mioargs\u001b[49m\u001b[38;5;241;43m.\u001b[39;49m\u001b[43mmode\u001b[49m\u001b[43m,\u001b[49m\n\u001b[1;32m    876\u001b[0m \u001b[43m            \u001b[49m\u001b[43mencoding\u001b[49m\u001b[38;5;241;43m=\u001b[39;49m\u001b[43mioargs\u001b[49m\u001b[38;5;241;43m.\u001b[39;49m\u001b[43mencoding\u001b[49m\u001b[43m,\u001b[49m\n\u001b[1;32m    877\u001b[0m \u001b[43m            \u001b[49m\u001b[43merrors\u001b[49m\u001b[38;5;241;43m=\u001b[39;49m\u001b[43merrors\u001b[49m\u001b[43m,\u001b[49m\n\u001b[1;32m    878\u001b[0m \u001b[43m            \u001b[49m\u001b[43mnewline\u001b[49m\u001b[38;5;241;43m=\u001b[39;49m\u001b[38;5;124;43m\"\u001b[39;49m\u001b[38;5;124;43m\"\u001b[39;49m\u001b[43m,\u001b[49m\n\u001b[1;32m    879\u001b[0m \u001b[43m        \u001b[49m\u001b[43m)\u001b[49m\n\u001b[1;32m    880\u001b[0m     \u001b[38;5;28;01melse\u001b[39;00m:\n\u001b[1;32m    881\u001b[0m         \u001b[38;5;66;03m# Binary mode\u001b[39;00m\n\u001b[1;32m    882\u001b[0m         handle \u001b[38;5;241m=\u001b[39m \u001b[38;5;28mopen\u001b[39m(handle, ioargs\u001b[38;5;241m.\u001b[39mmode)\n",
      "\u001b[0;31mFileNotFoundError\u001b[0m: [Errno 2] No such file or directory: 'train.csv'"
     ]
    }
   ],
   "source": [
    "p1titanic= pd.read_csv(\"train.csv\")\n",
    "p1titanic.head(10)"
   ]
  },
  {
   "cell_type": "markdown",
   "id": "ca1dc40d",
   "metadata": {},
   "source": [
    "Veri setini yüklüyoruz\n",
    "Sütunlara bakıp içeriği inceleyebiliyoruz"
   ]
  },
  {
   "cell_type": "code",
   "execution_count": null,
   "id": "22a4bc7a",
   "metadata": {},
   "outputs": [],
   "source": [
    "p1titanic = p1titanic.rename(columns={\n",
    "    \"PassengerId\": \"yolcu_id\",\n",
    "    \"Survived\": \"hayatta_kaldi\",\n",
    "    \"Pclass\": \"sinif\",\n",
    "    \"Name\": \"isim\",\n",
    "    \"Sex\": \"cinsiyet\",\n",
    "    \"Age\": \"yas\",\n",
    "    \"SibSp\": \"kardes_es_sayisi\",\n",
    "    \"Parch\": \"ebeveyn_cocuk_sayisi\",\n",
    "    \"Ticket\": \"bilet_no\",\n",
    "    \"Fare\": \"ucret\",\n",
    "    \"Cabin\": \"kabin\",\n",
    "    \"Embarked\": \"liman\"\n",
    "})"
   ]
  },
  {
   "cell_type": "markdown",
   "id": "0a532dd4",
   "metadata": {},
   "source": [
    "Sütun isimlerini Türkçe'ye çevirdik"
   ]
  },
  {
   "cell_type": "code",
   "execution_count": null,
   "id": "68baf82d",
   "metadata": {},
   "outputs": [
    {
     "data": {
      "text/html": [
       "<div>\n",
       "<style scoped>\n",
       "    .dataframe tbody tr th:only-of-type {\n",
       "        vertical-align: middle;\n",
       "    }\n",
       "\n",
       "    .dataframe tbody tr th {\n",
       "        vertical-align: top;\n",
       "    }\n",
       "\n",
       "    .dataframe thead th {\n",
       "        text-align: right;\n",
       "    }\n",
       "</style>\n",
       "<table border=\"1\" class=\"dataframe\">\n",
       "  <thead>\n",
       "    <tr style=\"text-align: right;\">\n",
       "      <th></th>\n",
       "      <th>yolcu_id</th>\n",
       "      <th>hayatta_kaldi</th>\n",
       "      <th>sinif</th>\n",
       "      <th>isim</th>\n",
       "      <th>cinsiyet</th>\n",
       "      <th>yas</th>\n",
       "      <th>kardes_es_sayisi</th>\n",
       "      <th>ebeveyn_cocuk_sayisi</th>\n",
       "      <th>bilet_no</th>\n",
       "      <th>ucret</th>\n",
       "      <th>kabin</th>\n",
       "      <th>liman</th>\n",
       "    </tr>\n",
       "  </thead>\n",
       "  <tbody>\n",
       "    <tr>\n",
       "      <th>0</th>\n",
       "      <td>1</td>\n",
       "      <td>0</td>\n",
       "      <td>3</td>\n",
       "      <td>Braund, Mr. Owen Harris</td>\n",
       "      <td>male</td>\n",
       "      <td>22.0</td>\n",
       "      <td>1</td>\n",
       "      <td>0</td>\n",
       "      <td>A/5 21171</td>\n",
       "      <td>7.2500</td>\n",
       "      <td>NaN</td>\n",
       "      <td>S</td>\n",
       "    </tr>\n",
       "    <tr>\n",
       "      <th>1</th>\n",
       "      <td>2</td>\n",
       "      <td>1</td>\n",
       "      <td>1</td>\n",
       "      <td>Cumings, Mrs. John Bradley (Florence Briggs Th...</td>\n",
       "      <td>female</td>\n",
       "      <td>38.0</td>\n",
       "      <td>1</td>\n",
       "      <td>0</td>\n",
       "      <td>PC 17599</td>\n",
       "      <td>71.2833</td>\n",
       "      <td>C85</td>\n",
       "      <td>C</td>\n",
       "    </tr>\n",
       "    <tr>\n",
       "      <th>2</th>\n",
       "      <td>3</td>\n",
       "      <td>1</td>\n",
       "      <td>3</td>\n",
       "      <td>Heikkinen, Miss. Laina</td>\n",
       "      <td>female</td>\n",
       "      <td>26.0</td>\n",
       "      <td>0</td>\n",
       "      <td>0</td>\n",
       "      <td>STON/O2. 3101282</td>\n",
       "      <td>7.9250</td>\n",
       "      <td>NaN</td>\n",
       "      <td>S</td>\n",
       "    </tr>\n",
       "    <tr>\n",
       "      <th>3</th>\n",
       "      <td>4</td>\n",
       "      <td>1</td>\n",
       "      <td>1</td>\n",
       "      <td>Futrelle, Mrs. Jacques Heath (Lily May Peel)</td>\n",
       "      <td>female</td>\n",
       "      <td>35.0</td>\n",
       "      <td>1</td>\n",
       "      <td>0</td>\n",
       "      <td>113803</td>\n",
       "      <td>53.1000</td>\n",
       "      <td>C123</td>\n",
       "      <td>S</td>\n",
       "    </tr>\n",
       "    <tr>\n",
       "      <th>4</th>\n",
       "      <td>5</td>\n",
       "      <td>0</td>\n",
       "      <td>3</td>\n",
       "      <td>Allen, Mr. William Henry</td>\n",
       "      <td>male</td>\n",
       "      <td>35.0</td>\n",
       "      <td>0</td>\n",
       "      <td>0</td>\n",
       "      <td>373450</td>\n",
       "      <td>8.0500</td>\n",
       "      <td>NaN</td>\n",
       "      <td>S</td>\n",
       "    </tr>\n",
       "  </tbody>\n",
       "</table>\n",
       "</div>"
      ],
      "text/plain": [
       "   yolcu_id  hayatta_kaldi  sinif  \\\n",
       "0         1              0      3   \n",
       "1         2              1      1   \n",
       "2         3              1      3   \n",
       "3         4              1      1   \n",
       "4         5              0      3   \n",
       "\n",
       "                                                isim cinsiyet   yas  \\\n",
       "0                            Braund, Mr. Owen Harris     male  22.0   \n",
       "1  Cumings, Mrs. John Bradley (Florence Briggs Th...   female  38.0   \n",
       "2                             Heikkinen, Miss. Laina   female  26.0   \n",
       "3       Futrelle, Mrs. Jacques Heath (Lily May Peel)   female  35.0   \n",
       "4                           Allen, Mr. William Henry     male  35.0   \n",
       "\n",
       "   kardes_es_sayisi  ebeveyn_cocuk_sayisi          bilet_no    ucret kabin  \\\n",
       "0                 1                     0         A/5 21171   7.2500   NaN   \n",
       "1                 1                     0          PC 17599  71.2833   C85   \n",
       "2                 0                     0  STON/O2. 3101282   7.9250   NaN   \n",
       "3                 1                     0            113803  53.1000  C123   \n",
       "4                 0                     0            373450   8.0500   NaN   \n",
       "\n",
       "  liman  \n",
       "0     S  \n",
       "1     C  \n",
       "2     S  \n",
       "3     S  \n",
       "4     S  "
      ]
     },
     "execution_count": 192,
     "metadata": {},
     "output_type": "execute_result"
    }
   ],
   "source": [
    "p1titanic.head()"
   ]
  },
  {
   "cell_type": "markdown",
   "id": "e0789a25",
   "metadata": {},
   "source": [
    "Veri setinin yeni haline baktık .head() ile"
   ]
  },
  {
   "cell_type": "code",
   "execution_count": null,
   "id": "239b838e",
   "metadata": {},
   "outputs": [
    {
     "name": "stdout",
     "output_type": "stream",
     "text": [
      "<class 'pandas.core.frame.DataFrame'>\n",
      "RangeIndex: 891 entries, 0 to 890\n",
      "Data columns (total 12 columns):\n",
      " #   Column                Non-Null Count  Dtype  \n",
      "---  ------                --------------  -----  \n",
      " 0   yolcu_id              891 non-null    int64  \n",
      " 1   hayatta_kaldi         891 non-null    int64  \n",
      " 2   sinif                 891 non-null    int64  \n",
      " 3   isim                  891 non-null    object \n",
      " 4   cinsiyet              891 non-null    object \n",
      " 5   yas                   714 non-null    float64\n",
      " 6   kardes_es_sayisi      891 non-null    int64  \n",
      " 7   ebeveyn_cocuk_sayisi  891 non-null    int64  \n",
      " 8   bilet_no              891 non-null    object \n",
      " 9   ucret                 891 non-null    float64\n",
      " 10  kabin                 204 non-null    object \n",
      " 11  liman                 889 non-null    object \n",
      "dtypes: float64(2), int64(5), object(5)\n",
      "memory usage: 83.7+ KB\n"
     ]
    }
   ],
   "source": [
    "p1titanic.info()"
   ]
  },
  {
   "cell_type": "markdown",
   "id": "7fdd48c6",
   "metadata": {},
   "source": [
    "İstatiki bilgilere bakabiliyoruz .info() ile. Kaç satır, sütun, eksik değerler var bunları görebiliyoruz"
   ]
  },
  {
   "cell_type": "code",
   "execution_count": null,
   "id": "5004ad68",
   "metadata": {},
   "outputs": [
    {
     "data": {
      "text/plain": [
       "yolcu_id                  0\n",
       "hayatta_kaldi             0\n",
       "sinif                     0\n",
       "isim                      0\n",
       "cinsiyet                  0\n",
       "yas                     177\n",
       "kardes_es_sayisi          0\n",
       "ebeveyn_cocuk_sayisi      0\n",
       "bilet_no                  0\n",
       "ucret                     0\n",
       "kabin                   687\n",
       "liman                     2\n",
       "dtype: int64"
      ]
     },
     "execution_count": 194,
     "metadata": {},
     "output_type": "execute_result"
    }
   ],
   "source": [
    "p1titanic.isnull().sum()"
   ]
  },
  {
   "cell_type": "markdown",
   "id": "04c24a9b",
   "metadata": {},
   "source": [
    "Eksik verilerin toplam sayısını bu şekilde görebiliyoruz."
   ]
  },
  {
   "cell_type": "code",
   "execution_count": null,
   "id": "7783aed9",
   "metadata": {},
   "outputs": [],
   "source": [
    "p1titanic[\"yas\"] = p1titanic[\"yas\"].fillna(p1titanic[\"yas\"].median())\n",
    "p1titanic[\"liman\"] = p1titanic[\"liman\"].fillna(p1titanic[\"liman\"].mode()[0])\n",
    "p1titanic[\"kabin_var\"] = p1titanic[\"kabin\"].notnull().astype(int)\n",
    "p1titanic.drop(\"kabin\", axis=1, inplace=True)"
   ]
  },
  {
   "cell_type": "markdown",
   "id": "b5d2496d",
   "metadata": {},
   "source": [
    "Burada eksik verileri dolduruyoruz:\n",
    "yas sütunundaki kısımları median (ortanca) ile doldurduk\n",
    "yas sütunundaki kısımları mode (en sık geçen) ile doldurduk\n",
    "kabin sütununda çok fazla eksik veri olduğundan sadece var mı yok mu bunu öğrenmek için yeni bir sütun oluşturduk kabin_var\n",
    "kabin sütunu veri kirliliği yapmasın diye sildik"
   ]
  },
  {
   "cell_type": "code",
   "execution_count": null,
   "id": "2fd1f49b",
   "metadata": {},
   "outputs": [
    {
     "data": {
      "text/plain": [
       "yolcu_id                0\n",
       "hayatta_kaldi           0\n",
       "sinif                   0\n",
       "isim                    0\n",
       "cinsiyet                0\n",
       "yas                     0\n",
       "kardes_es_sayisi        0\n",
       "ebeveyn_cocuk_sayisi    0\n",
       "bilet_no                0\n",
       "ucret                   0\n",
       "liman                   0\n",
       "kabin_var               0\n",
       "dtype: int64"
      ]
     },
     "execution_count": 196,
     "metadata": {},
     "output_type": "execute_result"
    }
   ],
   "source": [
    "p1titanic.isnull().sum()"
   ]
  },
  {
   "cell_type": "markdown",
   "id": "c0a11bcc",
   "metadata": {},
   "source": [
    "Eksik veri kaldı mı diye kontrol ettik veee yok"
   ]
  },
  {
   "cell_type": "code",
   "execution_count": null,
   "id": "774b37c9",
   "metadata": {},
   "outputs": [],
   "source": [
    "p1titanic[\"aile_buyuklugu\"] = (\n",
    "    p1titanic[\"kardes_es_sayisi\"] + \n",
    "    p1titanic[\"ebeveyn_cocuk_sayisi\"] + \n",
    "    1\n",
    ")\n",
    "\n",
    "p1titanic[\"unvan\"] = p1titanic[\"isim\"].apply(lambda x: x.split(\",\")[1].split(\".\")[0].strip())\n",
    "\n",
    "p1titanic[\"yalniz_mi\"] = (p1titanic[\"aile_buyuklugu\"] == 1).astype(int)"
   ]
  },
  {
   "cell_type": "markdown",
   "id": "f134a56f",
   "metadata": {},
   "source": [
    "Hayatta kalma oranını etkileyebileceğini düşündüğüm özellikleri ayrıca sütun olarak oluşturduk:\n",
    "\"aile_buyuklugu\",\n",
    "\"unvan\" eğer,\n",
    "\"yalniz_mi\" eğer yalnızsa yardım edeni olmayacağı için ölme ihtimali yüksektir. Orman kanunları...\n"
   ]
  },
  {
   "cell_type": "code",
   "execution_count": null,
   "id": "4c222192",
   "metadata": {},
   "outputs": [
    {
     "name": "stdout",
     "output_type": "stream",
     "text": [
      "<class 'pandas.core.frame.DataFrame'>\n",
      "RangeIndex: 891 entries, 0 to 890\n",
      "Data columns (total 15 columns):\n",
      " #   Column                Non-Null Count  Dtype  \n",
      "---  ------                --------------  -----  \n",
      " 0   yolcu_id              891 non-null    int64  \n",
      " 1   hayatta_kaldi         891 non-null    int64  \n",
      " 2   sinif                 891 non-null    int64  \n",
      " 3   isim                  891 non-null    object \n",
      " 4   cinsiyet              891 non-null    object \n",
      " 5   yas                   891 non-null    float64\n",
      " 6   kardes_es_sayisi      891 non-null    int64  \n",
      " 7   ebeveyn_cocuk_sayisi  891 non-null    int64  \n",
      " 8   bilet_no              891 non-null    object \n",
      " 9   ucret                 891 non-null    float64\n",
      " 10  liman                 891 non-null    object \n",
      " 11  kabin_var             891 non-null    int64  \n",
      " 12  aile_buyuklugu        891 non-null    int64  \n",
      " 13  unvan                 891 non-null    object \n",
      " 14  yalniz_mi             891 non-null    int64  \n",
      "dtypes: float64(2), int64(8), object(5)\n",
      "memory usage: 104.5+ KB\n"
     ]
    }
   ],
   "source": [
    "p1titanic.info()"
   ]
  },
  {
   "cell_type": "markdown",
   "id": "4b421df9",
   "metadata": {},
   "source": [
    "Sütunlarımızın son halini .info() ile gördük"
   ]
  },
  {
   "cell_type": "markdown",
   "id": "2b1522e5",
   "metadata": {},
   "source": [
    "GÖRSELLEŞTİRME AŞAMASI"
   ]
  },
  {
   "cell_type": "code",
   "execution_count": null,
   "id": "ff757b3a",
   "metadata": {},
   "outputs": [
    {
     "name": "stderr",
     "output_type": "stream",
     "text": [
      "/var/folders/90/78252d3n5lsfth5ltb8c0dmw0000gn/T/ipykernel_46854/2352857000.py:10: FutureWarning: \n",
      "\n",
      "Passing `palette` without assigning `hue` is deprecated and will be removed in v0.14.0. Assign the `x` variable to `hue` and set `legend=False` for the same effect.\n",
      "\n",
      "  barplot = sns.barplot(\n"
     ]
    },
    {
     "data": {
      "image/png": "[encoded data removed]",
      "text/plain": [
       "<Figure size 700x500 with 1 Axes>"
      ]
     },
     "metadata": {},
     "output_type": "display_data"
    }
   ],
   "source": [
    "p1titanic[\"cinsiyet\"] = p1titanic[\"cinsiyet\"].map({\"female\": \"Kadın\", \"male\": \"Erkek\"}) #cinsiyet değerini türkçe'ye çevirdik\n",
    "\n",
    "oranlar = p1titanic.groupby(\"cinsiyet\")[\"hayatta_kaldi\"].mean().reset_index()\n",
    "oranlar[\"yuzde\"] = oranlar[\"hayatta_kaldi\"] * 100\n",
    "\n",
    "sns.set_style(\"whitegrid\")\n",
    "plt.figure(figsize=(7,5))\n",
    "renkler = [\"#4a90e2\", \"#e94e77\"]  # renk tonları\n",
    "barplot = sns.barplot(\n",
    "    data=oranlar,\n",
    "    x=\"cinsiyet\",\n",
    "    y=\"yuzde\",\n",
    "    palette=renkler\n",
    ")\n",
    "\n",
    "#bar üstünde yüzdelik oran yazılması\n",
    "for index, row in oranlar.iterrows():\n",
    "    barplot.text(index, row[\"yuzde\"] + 2, f\"%{row['yuzde']:.1f}\", \n",
    "                 color='black', ha=\"center\", fontsize=12, fontweight='bold')\n",
    "\n",
    "\n",
    "plt.title(\" Cinsiyete Göre Hayatta Kalma Oranı (%)\", fontsize=14, fontweight=\"bold\")\n",
    "plt.xlabel(\"Cinsiyet\", fontsize=12, fontweight=\"bold\")\n",
    "plt.ylabel(\"Hayatta Kalma Oranı (%)\", fontsize=12, fontweight=\"bold\")\n",
    "plt.ylim(0, 110)\n",
    "plt.grid(axis='y', linestyle='--', alpha=0.8)\n",
    "plt.xticks(fontsize=11)\n",
    "plt.yticks(fontsize=11)\n",
    "plt.tight_layout()\n",
    "plt.show()"
   ]
  },
  {
   "cell_type": "markdown",
   "id": "c8a61ad6",
   "metadata": {},
   "source": [
    "Her cinsiyetin hayatta kalma oranını yüzdelik olarak hesapladık ve grafiği klasik grafiklere nazaran daha da özelleştirerek oluşturduk.\n",
    "\n",
    "Kadınlar arasında hayatta kalma oranı → 233 / 314 = %74.2\n",
    "Erkekler arasında hayatta kalma oranı → 109 / 577 = %18.9"
   ]
  },
  {
   "cell_type": "code",
   "execution_count": null,
   "id": "4d321308",
   "metadata": {},
   "outputs": [
    {
     "name": "stderr",
     "output_type": "stream",
     "text": [
      "/var/folders/90/78252d3n5lsfth5ltb8c0dmw0000gn/T/ipykernel_46854/243633513.py:10: FutureWarning: The default of observed=False is deprecated and will be changed to True in a future version of pandas. Pass observed=False to retain current behavior or observed=True to adopt the future default and silence this warning.\n",
      "  p1titanic\n",
      "/var/folders/90/78252d3n5lsfth5ltb8c0dmw0000gn/T/ipykernel_46854/243633513.py:19: FutureWarning: \n",
      "\n",
      "Passing `palette` without assigning `hue` is deprecated and will be removed in v0.14.0. Assign the `x` variable to `hue` and set `legend=False` for the same effect.\n",
      "\n",
      "  barplot = sns.barplot(\n"
     ]
    },
    {
     "data": {
      "image/png": "[encoded data removed]",
      "text/plain": [
       "<Figure size 900x500 with 1 Axes>"
      ]
     },
     "metadata": {},
     "output_type": "display_data"
    }
   ],
   "source": [
    "bins = [0, 12, 18, 35, 50, 65, 100]\n",
    "labels = ['Çocuk', 'Genç', 'Yetişkin', 'Orta Yaş', 'Yaşlı', 'Çok Yaşlı']\n",
    "\n",
    "p1titanic[\"yas_grubu\"] = pd.cut(p1titanic[\"yas\"], bins=bins, labels=labels)\n",
    "\n",
    "sns.set_style(\"whitegrid\")\n",
    "plt.figure(figsize=(9,5))\n",
    "\n",
    "yas_oran = (\n",
    "    p1titanic\n",
    "    .groupby(\"yas_grubu\")[\"hayatta_kaldi\"]\n",
    "    .mean()\n",
    "    .reset_index()\n",
    ")\n",
    "yas_oran[\"yuzde\"] = yas_oran[\"hayatta_kaldi\"] * 100\n",
    "\n",
    "\n",
    "renkler = [\"#8dd3c7\", \"#80b1d3\", \"#fdb462\", \"#fb8072\", \"#bebada\", \"#b3de69\"]\n",
    "barplot = sns.barplot(\n",
    "    data=yas_oran,\n",
    "    x=\"yas_grubu\",\n",
    "    y=\"yuzde\",\n",
    "    palette=renkler\n",
    ")\n",
    "\n",
    "\n",
    "for index, row in yas_oran.iterrows():\n",
    "    barplot.text(index, row[\"yuzde\"] + 2, f\"%{row['yuzde']:.1f}\",\n",
    "                 color='black', ha=\"center\", fontsize=12, fontweight='bold')\n",
    "\n",
    "plt.title(\"Yaş Gruplarına Göre Hayatta Kalma Oranı (%)\", fontsize=14, fontweight=\"bold\")\n",
    "plt.xlabel(\"Yaş Grubu\", fontsize=12, fontweight=\"bold\")\n",
    "plt.ylabel(\"Hayatta Kalma Oranı (%)\", fontsize=12, fontweight=\"bold\")\n",
    "plt.ylim(0, 110)\n",
    "plt.grid(axis='y', linestyle='--', alpha=0.8)\n",
    "plt.tight_layout()\n",
    "plt.show()"
   ]
  },
  {
   "cell_type": "markdown",
   "id": "22ebc7ac",
   "metadata": {},
   "source": [
    "Yaşları gruplara ayırıp bu gruplara göre hayatta kalma oranını yüzdesel olarak hesapladık ve grafiğe dökdük."
   ]
  },
  {
   "cell_type": "code",
   "execution_count": null,
   "id": "1abe48a7",
   "metadata": {},
   "outputs": [
    {
     "name": "stderr",
     "output_type": "stream",
     "text": [
      "/var/folders/90/78252d3n5lsfth5ltb8c0dmw0000gn/T/ipykernel_46854/2473276485.py:14: FutureWarning: \n",
      "\n",
      "Passing `palette` without assigning `hue` is deprecated and will be removed in v0.14.0. Assign the `x` variable to `hue` and set `legend=False` for the same effect.\n",
      "\n",
      "  barplot = sns.barplot(\n"
     ]
    },
    {
     "data": {
      "image/png": "[encoded data removed]",
      "text/plain": [
       "<Figure size 700x500 with 1 Axes>"
      ]
     },
     "metadata": {},
     "output_type": "display_data"
    }
   ],
   "source": [
    "sns.set_style(\"whitegrid\")\n",
    "plt.figure(figsize=(7,5))\n",
    "\n",
    "sinif_oran = (\n",
    "    p1titanic\n",
    "    .groupby(\"sinif\")[\"hayatta_kaldi\"]\n",
    "    .mean()\n",
    "    .reset_index()\n",
    ")\n",
    "sinif_oran[\"yuzde\"] = sinif_oran[\"hayatta_kaldi\"] * 100\n",
    "\n",
    "\n",
    "renkler = [\"#66c2a5\", \"#fc8d62\", \"#8da0cb\"]\n",
    "barplot = sns.barplot(\n",
    "    data=sinif_oran,\n",
    "    x=\"sinif\",\n",
    "    y=\"yuzde\",\n",
    "    palette=renkler\n",
    ")\n",
    "\n",
    "\n",
    "for index, row in sinif_oran.iterrows():\n",
    "    barplot.text(index, row[\"yuzde\"] + 2, f\"%{row['yuzde']:.1f}\",\n",
    "                 color='black', ha=\"center\", fontsize=12, fontweight='bold')\n",
    "\n",
    "\n",
    "plt.title(\"Sınıfa Göre Hayatta Kalma Oranı (%)\", fontsize=14, fontweight=\"bold\")\n",
    "plt.xlabel(\"Yolcu Sınıfı\", fontsize=12, fontweight=\"bold\")\n",
    "plt.ylabel(\"Hayatta Kalma Oranı (%)\", fontsize=12, fontweight=\"bold\")\n",
    "plt.ylim(0, 110)\n",
    "plt.grid(axis='y', linestyle='--', alpha=0.8)\n",
    "plt.tight_layout()\n",
    "plt.show()"
   ]
  },
  {
   "cell_type": "markdown",
   "id": "e1654066",
   "metadata": {},
   "source": [
    "Sınıflara göre yolcuların hayatta kalma oranlarını karşılaştırdık. Sınıf arttıkça hayatta kalma oranı artıyormuş.\n",
    "\n",
    "- 1 → Birinci sınıf\n",
    "- 2 → İkinci sınıf\n",
    "- 3 → Üçüncü sınıf"
   ]
  },
  {
   "cell_type": "code",
   "execution_count": null,
   "id": "795f869d",
   "metadata": {},
   "outputs": [
    {
     "name": "stderr",
     "output_type": "stream",
     "text": [
      "/var/folders/90/78252d3n5lsfth5ltb8c0dmw0000gn/T/ipykernel_46854/4007228958.py:14: FutureWarning: \n",
      "\n",
      "Passing `palette` without assigning `hue` is deprecated and will be removed in v0.14.0. Assign the `x` variable to `hue` and set `legend=False` for the same effect.\n",
      "\n",
      "  barplot = sns.barplot(\n"
     ]
    },
    {
     "data": {
      "image/png": "[encoded data removed]",
      "text/plain": [
       "<Figure size 800x500 with 1 Axes>"
      ]
     },
     "metadata": {},
     "output_type": "display_data"
    }
   ],
   "source": [
    "sns.set_style(\"whitegrid\")\n",
    "plt.figure(figsize=(8,5))\n",
    "\n",
    "aile_oran = (\n",
    "    p1titanic\n",
    "    .groupby(\"aile_buyuklugu\")[\"hayatta_kaldi\"]\n",
    "    .mean()\n",
    "    .reset_index()\n",
    ")\n",
    "aile_oran[\"yuzde\"] = aile_oran[\"hayatta_kaldi\"] * 100\n",
    "\n",
    "\n",
    "renkler = sns.color_palette(\"Paired\", n_colors=len(aile_oran))\n",
    "barplot = sns.barplot(\n",
    "    data=aile_oran,\n",
    "    x=\"aile_buyuklugu\",\n",
    "    y=\"yuzde\",\n",
    "    palette=renkler\n",
    ")\n",
    "\n",
    "\n",
    "for index, row in aile_oran.iterrows():\n",
    "    barplot.text(index, row[\"yuzde\"] + 2, f\"%{row['yuzde']:.1f}\",\n",
    "                 color='black', ha=\"center\", fontsize=11, fontweight='bold')\n",
    "\n",
    "\n",
    "plt.title(\"Aile Büyüklüğüne Göre Hayatta Kalma Oranı (%)\", fontsize=14, fontweight=\"bold\")\n",
    "plt.xlabel(\"Aile Büyüklüğü\", fontsize=12, fontweight=\"bold\")\n",
    "plt.ylabel(\"Hayatta Kalma Oranı (%)\", fontsize=12, fontweight=\"bold\")\n",
    "plt.ylim(0, 110)\n",
    "plt.grid(axis='y', linestyle='--', alpha=0.8)\n",
    "plt.tight_layout()\n",
    "plt.show()"
   ]
  },
  {
   "cell_type": "markdown",
   "id": "402ae278",
   "metadata": {},
   "source": [
    "Aile büyüklüğü arttıkça hayatta kalma oranı nasıl değişiyor onu grafikle analiz ettik:\n",
    "\n",
    "-- Yalnız seyahat eden yolcuların hayatta kalma oranı düşüktür,\n",
    "-- 2-4 kişilik küçük aileler daha avantajlı görünmektedir,\n",
    "-- Çok kalabalık ailelerde (5 kişi ve üzeri) hayatta kalma oranı tekrar düşmektedir,"
   ]
  },
  {
   "cell_type": "code",
   "execution_count": null,
   "id": "5fff73db",
   "metadata": {},
   "outputs": [],
   "source": [
    "unvan_sayilari = p1titanic[\"unvan\"].value_counts()\n",
    "sik_unvanlar = unvan_sayilari[unvan_sayilari > 10].index"
   ]
  },
  {
   "cell_type": "markdown",
   "id": "f3a07ba9",
   "metadata": {},
   "source": [
    "Veri setinde en çok geçen unvanları saydık "
   ]
  },
  {
   "cell_type": "code",
   "execution_count": null,
   "id": "30b8e6c7",
   "metadata": {},
   "outputs": [
    {
     "data": {
      "text/plain": [
       "unvan\n",
       "Mr              517\n",
       "Miss            182\n",
       "Mrs             125\n",
       "Master           40\n",
       "Dr                7\n",
       "Rev               6\n",
       "Mlle              2\n",
       "Major             2\n",
       "Col               2\n",
       "the Countess      1\n",
       "Capt              1\n",
       "Ms                1\n",
       "Sir               1\n",
       "Lady              1\n",
       "Mme               1\n",
       "Don               1\n",
       "Jonkheer          1\n",
       "Name: count, dtype: int64"
      ]
     },
     "execution_count": 204,
     "metadata": {},
     "output_type": "execute_result"
    }
   ],
   "source": [
    "unvan_sayilari"
   ]
  },
  {
   "cell_type": "code",
   "execution_count": null,
   "id": "ab44b58a",
   "metadata": {},
   "outputs": [
    {
     "name": "stderr",
     "output_type": "stream",
     "text": [
      "/var/folders/90/78252d3n5lsfth5ltb8c0dmw0000gn/T/ipykernel_46854/1539726601.py:14: FutureWarning: \n",
      "\n",
      "Passing `palette` without assigning `hue` is deprecated and will be removed in v0.14.0. Assign the `x` variable to `hue` and set `legend=False` for the same effect.\n",
      "\n",
      "  barplot = sns.barplot(\n"
     ]
    },
    {
     "data": {
      "image/png": "[encoded data removed]",
      "text/plain": [
       "<Figure size 900x500 with 1 Axes>"
      ]
     },
     "metadata": {},
     "output_type": "display_data"
    }
   ],
   "source": [
    "\n",
    "p1titanic[\"unvan_grup\"] = p1titanic[\"unvan\"].apply(lambda x: x if x in sik_unvanlar else \"Diğer\")\n",
    "\n",
    "unvan_oran = (\n",
    "    p1titanic\n",
    "    .groupby(\"unvan_grup\")[\"hayatta_kaldi\"]\n",
    "    .mean()\n",
    "    .reset_index()\n",
    ")\n",
    "unvan_oran[\"yuzde\"] = unvan_oran[\"hayatta_kaldi\"] * 100\n",
    "\n",
    "\n",
    "renkler = sns.color_palette(\"Set2\", n_colors=len(unvan_oran))\n",
    "plt.figure(figsize=(9,5))\n",
    "barplot = sns.barplot(\n",
    "    data=unvan_oran,\n",
    "    x=\"unvan_grup\",\n",
    "    y=\"yuzde\",\n",
    "    palette=renkler\n",
    ")\n",
    "\n",
    "\n",
    "for index, row in unvan_oran.iterrows():\n",
    "    barplot.text(index, row[\"yuzde\"] + 2, f\"%{row['yuzde']:.1f}\",\n",
    "                 color='black', ha=\"center\", fontsize=11, fontweight='bold')\n",
    "\n",
    "plt.title(\"Ünvanlara Göre Hayatta Kalma Oranı (%)\", fontsize=14, fontweight=\"bold\")\n",
    "plt.xlabel(\"Ünvan\", fontsize=12,fontweight=\"bold\")\n",
    "plt.ylabel(\"Hayatta Kalma Oranı (%)\", fontsize=12, fontweight=\"bold\")\n",
    "plt.ylim(0, 110)\n",
    "plt.grid(axis='y', linestyle='--', alpha=0.8)\n",
    "plt.tight_layout()\n",
    "plt.show()"
   ]
  },
  {
   "cell_type": "markdown",
   "id": "32188a1f",
   "metadata": {},
   "source": [
    "Ünvan gruplarına göre hayatta kalma oranına baktık:\n",
    "\n",
    "-- Miss/Mrs gibi kadın unvanına sahip yolcuların hayatta kalma oranı yüksek. Bu da kadınlara tahliyede öncelik verildiğini gösteriyor.\n",
    "-- Mr unvanlı erkek yolcuların oranı ise belirgin şekilde düşük. Önceliğin kadın ve çocuklara verilmesinden dolayı olabilir.\n",
    "-- Dr, Col, Rev gibi özel unvanlar daha değişken sonuçlar veriyor. Bazıları üst sınıf olduğu için avantajlı olabilir; ama çoğu yetişkin erkek olduğu için oran yine düşük kalmış olabilir."
   ]
  },
  {
   "cell_type": "markdown",
   "id": "2b2d051d",
   "metadata": {},
   "source": [
    "MODELLEME AŞAMASI"
   ]
  },
  {
   "cell_type": "code",
   "execution_count": null,
   "id": "d533d946",
   "metadata": {},
   "outputs": [],
   "source": [
    "kullanilacak_sutunlar = [\n",
    "    'sinif', 'cinsiyet', 'yas', 'ucret', 'liman', \n",
    "    'aile_buyuklugu', 'unvan', 'yalniz_mi'\n",
    "    ]\n",
    "\n",
    "#onehot encode\n",
    "veri_model = pd.get_dummies(p1titanic[kullanilacak_sutunlar], drop_first=True)\n",
    "etiket = p1titanic[\"hayatta_kaldi\"]"
   ]
  },
  {
   "cell_type": "markdown",
   "id": "8b651538",
   "metadata": {},
   "source": [
    "Model için kullanılacak sütunları belirledik ve kategorik verileri sayılara çevirmek için onehot encoding kullandık."
   ]
  },
  {
   "cell_type": "code",
   "execution_count": null,
   "id": "b3f7e834",
   "metadata": {},
   "outputs": [],
   "source": [
    "from sklearn.model_selection import train_test_split\n",
    "\n",
    "X_train, X_test, y_train, y_test = train_test_split(\n",
    "    veri_model, etiket, test_size=0.2, random_state=42\n",
    ")"
   ]
  },
  {
   "cell_type": "markdown",
   "id": "f542bdcd",
   "metadata": {},
   "source": [
    "Veriyi eğitim ve test olmak üzere ikiye ayırdık. %80 eğitim, %20 test olacak şekilde ayırma yaptık. Böylece modelimizi test etmek için elimizde ayrı bir veri kaldı."
   ]
  },
  {
   "cell_type": "markdown",
   "id": "50df7a67",
   "metadata": {},
   "source": [
    "Veriyi eğitim ve test olarak ikiye ayırdık. %20 test %80 eğitim verisi olarak girdimizi girdik (0.20). "
   ]
  },
  {
   "cell_type": "code",
   "execution_count": null,
   "id": "b99c5e3d",
   "metadata": {},
   "outputs": [
    {
     "data": {
      "text/html": [
       "<style>#sk-container-id-5 {\n",
       "  /* Definition of color scheme common for light and dark mode */\n",
       "  --sklearn-color-text: #000;\n",
       "  --sklearn-color-text-muted: #666;\n",
       "  --sklearn-color-line: gray;\n",
       "  /* Definition of color scheme for unfitted estimators */\n",
       "  --sklearn-color-unfitted-level-0: #fff5e6;\n",
       "  --sklearn-color-unfitted-level-1: #f6e4d2;\n",
       "  --sklearn-color-unfitted-level-2: #ffe0b3;\n",
       "  --sklearn-color-unfitted-level-3: chocolate;\n",
       "  /* Definition of color scheme for fitted estimators */\n",
       "  --sklearn-color-fitted-level-0: #f0f8ff;\n",
       "  --sklearn-color-fitted-level-1: #d4ebff;\n",
       "  --sklearn-color-fitted-level-2: #b3dbfd;\n",
       "  --sklearn-color-fitted-level-3: cornflowerblue;\n",
       "\n",
       "  /* Specific color for light theme */\n",
       "  --sklearn-color-text-on-default-background: var(--sg-text-color, var(--theme-code-foreground, var(--jp-content-font-color1, black)));\n",
       "  --sklearn-color-background: var(--sg-background-color, var(--theme-background, var(--jp-layout-color0, white)));\n",
       "  --sklearn-color-border-box: var(--sg-text-color, var(--theme-code-foreground, var(--jp-content-font-color1, black)));\n",
       "  --sklearn-color-icon: #696969;\n",
       "\n",
       "  @media (prefers-color-scheme: dark) {\n",
       "    /* Redefinition of color scheme for dark theme */\n",
       "    --sklearn-color-text-on-default-background: var(--sg-text-color, var(--theme-code-foreground, var(--jp-content-font-color1, white)));\n",
       "    --sklearn-color-background: var(--sg-background-color, var(--theme-background, var(--jp-layout-color0, #111)));\n",
       "    --sklearn-color-border-box: var(--sg-text-color, var(--theme-code-foreground, var(--jp-content-font-color1, white)));\n",
       "    --sklearn-color-icon: #878787;\n",
       "  }\n",
       "}\n",
       "\n",
       "#sk-container-id-5 {\n",
       "  color: var(--sklearn-color-text);\n",
       "}\n",
       "\n",
       "#sk-container-id-5 pre {\n",
       "  padding: 0;\n",
       "}\n",
       "\n",
       "#sk-container-id-5 input.sk-hidden--visually {\n",
       "  border: 0;\n",
       "  clip: rect(1px 1px 1px 1px);\n",
       "  clip: rect(1px, 1px, 1px, 1px);\n",
       "  height: 1px;\n",
       "  margin: -1px;\n",
       "  overflow: hidden;\n",
       "  padding: 0;\n",
       "  position: absolute;\n",
       "  width: 1px;\n",
       "}\n",
       "\n",
       "#sk-container-id-5 div.sk-dashed-wrapped {\n",
       "  border: 1px dashed var(--sklearn-color-line);\n",
       "  margin: 0 0.4em 0.5em 0.4em;\n",
       "  box-sizing: border-box;\n",
       "  padding-bottom: 0.4em;\n",
       "  background-color: var(--sklearn-color-background);\n",
       "}\n",
       "\n",
       "#sk-container-id-5 div.sk-container {\n",
       "  /* jupyter's `normalize.less` sets `[hidden] { display: none; }`\n",
       "     but bootstrap.min.css set `[hidden] { display: none !important; }`\n",
       "     so we also need the `!important` here to be able to override the\n",
       "     default hidden behavior on the sphinx rendered scikit-learn.org.\n",
       "     See: https://github.com/scikit-learn/scikit-learn/issues/21755 */\n",
       "  display: inline-block !important;\n",
       "  position: relative;\n",
       "}\n",
       "\n",
       "#sk-container-id-5 div.sk-text-repr-fallback {\n",
       "  display: none;\n",
       "}\n",
       "\n",
       "div.sk-parallel-item,\n",
       "div.sk-serial,\n",
       "div.sk-item {\n",
       "  /* draw centered vertical line to link estimators */\n",
       "  background-image: linear-gradient(var(--sklearn-color-text-on-default-background), var(--sklearn-color-text-on-default-background));\n",
       "  background-size: 2px 100%;\n",
       "  background-repeat: no-repeat;\n",
       "  background-position: center center;\n",
       "}\n",
       "\n",
       "/* Parallel-specific style estimator block */\n",
       "\n",
       "#sk-container-id-5 div.sk-parallel-item::after {\n",
       "  content: \"\";\n",
       "  width: 100%;\n",
       "  border-bottom: 2px solid var(--sklearn-color-text-on-default-background);\n",
       "  flex-grow: 1;\n",
       "}\n",
       "\n",
       "#sk-container-id-5 div.sk-parallel {\n",
       "  display: flex;\n",
       "  align-items: stretch;\n",
       "  justify-content: center;\n",
       "  background-color: var(--sklearn-color-background);\n",
       "  position: relative;\n",
       "}\n",
       "\n",
       "#sk-container-id-5 div.sk-parallel-item {\n",
       "  display: flex;\n",
       "  flex-direction: column;\n",
       "}\n",
       "\n",
       "#sk-container-id-5 div.sk-parallel-item:first-child::after {\n",
       "  align-self: flex-end;\n",
       "  width: 50%;\n",
       "}\n",
       "\n",
       "#sk-container-id-5 div.sk-parallel-item:last-child::after {\n",
       "  align-self: flex-start;\n",
       "  width: 50%;\n",
       "}\n",
       "\n",
       "#sk-container-id-5 div.sk-parallel-item:only-child::after {\n",
       "  width: 0;\n",
       "}\n",
       "\n",
       "/* Serial-specific style estimator block */\n",
       "\n",
       "#sk-container-id-5 div.sk-serial {\n",
       "  display: flex;\n",
       "  flex-direction: column;\n",
       "  align-items: center;\n",
       "  background-color: var(--sklearn-color-background);\n",
       "  padding-right: 1em;\n",
       "  padding-left: 1em;\n",
       "}\n",
       "\n",
       "\n",
       "/* Toggleable style: style used for estimator/Pipeline/ColumnTransformer box that is\n",
       "clickable and can be expanded/collapsed.\n",
       "- Pipeline and ColumnTransformer use this feature and define the default style\n",
       "- Estimators will overwrite some part of the style using the `sk-estimator` class\n",
       "*/\n",
       "\n",
       "/* Pipeline and ColumnTransformer style (default) */\n",
       "\n",
       "#sk-container-id-5 div.sk-toggleable {\n",
       "  /* Default theme specific background. It is overwritten whether we have a\n",
       "  specific estimator or a Pipeline/ColumnTransformer */\n",
       "  background-color: var(--sklearn-color-background);\n",
       "}\n",
       "\n",
       "/* Toggleable label */\n",
       "#sk-container-id-5 label.sk-toggleable__label {\n",
       "  cursor: pointer;\n",
       "  display: flex;\n",
       "  width: 100%;\n",
       "  margin-bottom: 0;\n",
       "  padding: 0.5em;\n",
       "  box-sizing: border-box;\n",
       "  text-align: center;\n",
       "  align-items: start;\n",
       "  justify-content: space-between;\n",
       "  gap: 0.5em;\n",
       "}\n",
       "\n",
       "#sk-container-id-5 label.sk-toggleable__label .caption {\n",
       "  font-size: 0.6rem;\n",
       "  font-weight: lighter;\n",
       "  color: var(--sklearn-color-text-muted);\n",
       "}\n",
       "\n",
       "#sk-container-id-5 label.sk-toggleable__label-arrow:before {\n",
       "  /* Arrow on the left of the label */\n",
       "  content: \"▸\";\n",
       "  float: left;\n",
       "  margin-right: 0.25em;\n",
       "  color: var(--sklearn-color-icon);\n",
       "}\n",
       "\n",
       "#sk-container-id-5 label.sk-toggleable__label-arrow:hover:before {\n",
       "  color: var(--sklearn-color-text);\n",
       "}\n",
       "\n",
       "/* Toggleable content - dropdown */\n",
       "\n",
       "#sk-container-id-5 div.sk-toggleable__content {\n",
       "  max-height: 0;\n",
       "  max-width: 0;\n",
       "  overflow: hidden;\n",
       "  text-align: left;\n",
       "  /* unfitted */\n",
       "  background-color: var(--sklearn-color-unfitted-level-0);\n",
       "}\n",
       "\n",
       "#sk-container-id-5 div.sk-toggleable__content.fitted {\n",
       "  /* fitted */\n",
       "  background-color: var(--sklearn-color-fitted-level-0);\n",
       "}\n",
       "\n",
       "#sk-container-id-5 div.sk-toggleable__content pre {\n",
       "  margin: 0.2em;\n",
       "  border-radius: 0.25em;\n",
       "  color: var(--sklearn-color-text);\n",
       "  /* unfitted */\n",
       "  background-color: var(--sklearn-color-unfitted-level-0);\n",
       "}\n",
       "\n",
       "#sk-container-id-5 div.sk-toggleable__content.fitted pre {\n",
       "  /* unfitted */\n",
       "  background-color: var(--sklearn-color-fitted-level-0);\n",
       "}\n",
       "\n",
       "#sk-container-id-5 input.sk-toggleable__control:checked~div.sk-toggleable__content {\n",
       "  /* Expand drop-down */\n",
       "  max-height: 200px;\n",
       "  max-width: 100%;\n",
       "  overflow: auto;\n",
       "}\n",
       "\n",
       "#sk-container-id-5 input.sk-toggleable__control:checked~label.sk-toggleable__label-arrow:before {\n",
       "  content: \"▾\";\n",
       "}\n",
       "\n",
       "/* Pipeline/ColumnTransformer-specific style */\n",
       "\n",
       "#sk-container-id-5 div.sk-label input.sk-toggleable__control:checked~label.sk-toggleable__label {\n",
       "  color: var(--sklearn-color-text);\n",
       "  background-color: var(--sklearn-color-unfitted-level-2);\n",
       "}\n",
       "\n",
       "#sk-container-id-5 div.sk-label.fitted input.sk-toggleable__control:checked~label.sk-toggleable__label {\n",
       "  background-color: var(--sklearn-color-fitted-level-2);\n",
       "}\n",
       "\n",
       "/* Estimator-specific style */\n",
       "\n",
       "/* Colorize estimator box */\n",
       "#sk-container-id-5 div.sk-estimator input.sk-toggleable__control:checked~label.sk-toggleable__label {\n",
       "  /* unfitted */\n",
       "  background-color: var(--sklearn-color-unfitted-level-2);\n",
       "}\n",
       "\n",
       "#sk-container-id-5 div.sk-estimator.fitted input.sk-toggleable__control:checked~label.sk-toggleable__label {\n",
       "  /* fitted */\n",
       "  background-color: var(--sklearn-color-fitted-level-2);\n",
       "}\n",
       "\n",
       "#sk-container-id-5 div.sk-label label.sk-toggleable__label,\n",
       "#sk-container-id-5 div.sk-label label {\n",
       "  /* The background is the default theme color */\n",
       "  color: var(--sklearn-color-text-on-default-background);\n",
       "}\n",
       "\n",
       "/* On hover, darken the color of the background */\n",
       "#sk-container-id-5 div.sk-label:hover label.sk-toggleable__label {\n",
       "  color: var(--sklearn-color-text);\n",
       "  background-color: var(--sklearn-color-unfitted-level-2);\n",
       "}\n",
       "\n",
       "/* Label box, darken color on hover, fitted */\n",
       "#sk-container-id-5 div.sk-label.fitted:hover label.sk-toggleable__label.fitted {\n",
       "  color: var(--sklearn-color-text);\n",
       "  background-color: var(--sklearn-color-fitted-level-2);\n",
       "}\n",
       "\n",
       "/* Estimator label */\n",
       "\n",
       "#sk-container-id-5 div.sk-label label {\n",
       "  font-family: monospace;\n",
       "  font-weight: bold;\n",
       "  display: inline-block;\n",
       "  line-height: 1.2em;\n",
       "}\n",
       "\n",
       "#sk-container-id-5 div.sk-label-container {\n",
       "  text-align: center;\n",
       "}\n",
       "\n",
       "/* Estimator-specific */\n",
       "#sk-container-id-5 div.sk-estimator {\n",
       "  font-family: monospace;\n",
       "  border: 1px dotted var(--sklearn-color-border-box);\n",
       "  border-radius: 0.25em;\n",
       "  box-sizing: border-box;\n",
       "  margin-bottom: 0.5em;\n",
       "  /* unfitted */\n",
       "  background-color: var(--sklearn-color-unfitted-level-0);\n",
       "}\n",
       "\n",
       "#sk-container-id-5 div.sk-estimator.fitted {\n",
       "  /* fitted */\n",
       "  background-color: var(--sklearn-color-fitted-level-0);\n",
       "}\n",
       "\n",
       "/* on hover */\n",
       "#sk-container-id-5 div.sk-estimator:hover {\n",
       "  /* unfitted */\n",
       "  background-color: var(--sklearn-color-unfitted-level-2);\n",
       "}\n",
       "\n",
       "#sk-container-id-5 div.sk-estimator.fitted:hover {\n",
       "  /* fitted */\n",
       "  background-color: var(--sklearn-color-fitted-level-2);\n",
       "}\n",
       "\n",
       "/* Specification for estimator info (e.g. \"i\" and \"?\") */\n",
       "\n",
       "/* Common style for \"i\" and \"?\" */\n",
       "\n",
       ".sk-estimator-doc-link,\n",
       "a:link.sk-estimator-doc-link,\n",
       "a:visited.sk-estimator-doc-link {\n",
       "  float: right;\n",
       "  font-size: smaller;\n",
       "  line-height: 1em;\n",
       "  font-family: monospace;\n",
       "  background-color: var(--sklearn-color-background);\n",
       "  border-radius: 1em;\n",
       "  height: 1em;\n",
       "  width: 1em;\n",
       "  text-decoration: none !important;\n",
       "  margin-left: 0.5em;\n",
       "  text-align: center;\n",
       "  /* unfitted */\n",
       "  border: var(--sklearn-color-unfitted-level-1) 1pt solid;\n",
       "  color: var(--sklearn-color-unfitted-level-1);\n",
       "}\n",
       "\n",
       ".sk-estimator-doc-link.fitted,\n",
       "a:link.sk-estimator-doc-link.fitted,\n",
       "a:visited.sk-estimator-doc-link.fitted {\n",
       "  /* fitted */\n",
       "  border: var(--sklearn-color-fitted-level-1) 1pt solid;\n",
       "  color: var(--sklearn-color-fitted-level-1);\n",
       "}\n",
       "\n",
       "/* On hover */\n",
       "div.sk-estimator:hover .sk-estimator-doc-link:hover,\n",
       ".sk-estimator-doc-link:hover,\n",
       "div.sk-label-container:hover .sk-estimator-doc-link:hover,\n",
       ".sk-estimator-doc-link:hover {\n",
       "  /* unfitted */\n",
       "  background-color: var(--sklearn-color-unfitted-level-3);\n",
       "  color: var(--sklearn-color-background);\n",
       "  text-decoration: none;\n",
       "}\n",
       "\n",
       "div.sk-estimator.fitted:hover .sk-estimator-doc-link.fitted:hover,\n",
       ".sk-estimator-doc-link.fitted:hover,\n",
       "div.sk-label-container:hover .sk-estimator-doc-link.fitted:hover,\n",
       ".sk-estimator-doc-link.fitted:hover {\n",
       "  /* fitted */\n",
       "  background-color: var(--sklearn-color-fitted-level-3);\n",
       "  color: var(--sklearn-color-background);\n",
       "  text-decoration: none;\n",
       "}\n",
       "\n",
       "/* Span, style for the box shown on hovering the info icon */\n",
       ".sk-estimator-doc-link span {\n",
       "  display: none;\n",
       "  z-index: 9999;\n",
       "  position: relative;\n",
       "  font-weight: normal;\n",
       "  right: .2ex;\n",
       "  padding: .5ex;\n",
       "  margin: .5ex;\n",
       "  width: min-content;\n",
       "  min-width: 20ex;\n",
       "  max-width: 50ex;\n",
       "  color: var(--sklearn-color-text);\n",
       "  box-shadow: 2pt 2pt 4pt #999;\n",
       "  /* unfitted */\n",
       "  background: var(--sklearn-color-unfitted-level-0);\n",
       "  border: .5pt solid var(--sklearn-color-unfitted-level-3);\n",
       "}\n",
       "\n",
       ".sk-estimator-doc-link.fitted span {\n",
       "  /* fitted */\n",
       "  background: var(--sklearn-color-fitted-level-0);\n",
       "  border: var(--sklearn-color-fitted-level-3);\n",
       "}\n",
       "\n",
       ".sk-estimator-doc-link:hover span {\n",
       "  display: block;\n",
       "}\n",
       "\n",
       "/* \"?\"-specific style due to the `<a>` HTML tag */\n",
       "\n",
       "#sk-container-id-5 a.estimator_doc_link {\n",
       "  float: right;\n",
       "  font-size: 1rem;\n",
       "  line-height: 1em;\n",
       "  font-family: monospace;\n",
       "  background-color: var(--sklearn-color-background);\n",
       "  border-radius: 1rem;\n",
       "  height: 1rem;\n",
       "  width: 1rem;\n",
       "  text-decoration: none;\n",
       "  /* unfitted */\n",
       "  color: var(--sklearn-color-unfitted-level-1);\n",
       "  border: var(--sklearn-color-unfitted-level-1) 1pt solid;\n",
       "}\n",
       "\n",
       "#sk-container-id-5 a.estimator_doc_link.fitted {\n",
       "  /* fitted */\n",
       "  border: var(--sklearn-color-fitted-level-1) 1pt solid;\n",
       "  color: var(--sklearn-color-fitted-level-1);\n",
       "}\n",
       "\n",
       "/* On hover */\n",
       "#sk-container-id-5 a.estimator_doc_link:hover {\n",
       "  /* unfitted */\n",
       "  background-color: var(--sklearn-color-unfitted-level-3);\n",
       "  color: var(--sklearn-color-background);\n",
       "  text-decoration: none;\n",
       "}\n",
       "\n",
       "#sk-container-id-5 a.estimator_doc_link.fitted:hover {\n",
       "  /* fitted */\n",
       "  background-color: var(--sklearn-color-fitted-level-3);\n",
       "}\n",
       "</style><div id=\"sk-container-id-5\" class=\"sk-top-container\"><div class=\"sk-text-repr-fallback\"><pre>RandomForestClassifier(random_state=42)</pre><b>In a Jupyter environment, please rerun this cell to show the HTML representation or trust the notebook. <br />On GitHub, the HTML representation is unable to render, please try loading this page with nbviewer.org.</b></div><div class=\"sk-container\" hidden><div class=\"sk-item\"><div class=\"sk-estimator fitted sk-toggleable\"><input class=\"sk-toggleable__control sk-hidden--visually\" id=\"sk-estimator-id-5\" type=\"checkbox\" checked><label for=\"sk-estimator-id-5\" class=\"sk-toggleable__label fitted sk-toggleable__label-arrow\"><div><div>RandomForestClassifier</div></div><div><a class=\"sk-estimator-doc-link fitted\" rel=\"noreferrer\" target=\"_blank\" href=\"https://scikit-learn.org/1.6/modules/generated/sklearn.ensemble.RandomForestClassifier.html\">?<span>Documentation for RandomForestClassifier</span></a><span class=\"sk-estimator-doc-link fitted\">i<span>Fitted</span></span></div></label><div class=\"sk-toggleable__content fitted\"><pre>RandomForestClassifier(random_state=42)</pre></div> </div></div></div></div>"
      ],
      "text/plain": [
       "RandomForestClassifier(random_state=42)"
      ]
     },
     "execution_count": 208,
     "metadata": {},
     "output_type": "execute_result"
    }
   ],
   "source": [
    "from sklearn.ensemble import RandomForestClassifier\n",
    "\n",
    "model = RandomForestClassifier(random_state=42)\n",
    "model.fit(X_train, y_train)"
   ]
  },
  {
   "cell_type": "markdown",
   "id": "4585f808",
   "metadata": {},
   "source": [
    "Model eğitilmiş durumda"
   ]
  },
  {
   "cell_type": "code",
   "execution_count": null,
   "id": "b42f2ccb",
   "metadata": {},
   "outputs": [],
   "source": [
    "tahminler = model.predict(X_test)"
   ]
  },
  {
   "cell_type": "markdown",
   "id": "ad37d7b6",
   "metadata": {},
   "source": [
    "Modeli test verisi üstünde çalıştırdık ve \"tahminler\" adlı değişkene atadık"
   ]
  },
  {
   "cell_type": "code",
   "execution_count": null,
   "id": "98fdd573",
   "metadata": {},
   "outputs": [
    {
     "name": "stdout",
     "output_type": "stream",
     "text": [
      "Model Doğruluğu: %84.36\n"
     ]
    }
   ],
   "source": [
    "from sklearn.metrics import accuracy_score\n",
    "\n",
    "dogruluk = accuracy_score(y_test, tahminler)\n",
    "print(f\"Model Doğruluğu: %{dogruluk * 100:.2f}\")"
   ]
  },
  {
   "cell_type": "markdown",
   "id": "afaf4bef",
   "metadata": {},
   "source": [
    "%80'in üzerindeki oranlar sağlıklıdır ama tek başına yeterli değildir."
   ]
  },
  {
   "cell_type": "markdown",
   "id": "3d51af7f",
   "metadata": {},
   "source": [
    "----------------"
   ]
  },
  {
   "cell_type": "code",
   "execution_count": null,
   "id": "25a1cb3b",
   "metadata": {},
   "outputs": [
    {
     "data": {
      "image/png": "[encoded data removed]",
      "text/plain": [
       "<Figure size 500x400 with 2 Axes>"
      ]
     },
     "metadata": {},
     "output_type": "display_data"
    }
   ],
   "source": [
    "from sklearn.metrics import confusion_matrix\n",
    "\n",
    "cm = confusion_matrix(y_test, tahminler)\n",
    "\n",
    "plt.figure(figsize=(5,4))\n",
    "sns.heatmap(cm, annot=True, fmt='d', cmap='Blues')\n",
    "plt.title(\"Confusion Matrix\", fontweight=\"bold\")\n",
    "plt.xlabel(\"Tahmin Edilen\", fontweight=\"bold\")\n",
    "plt.ylabel(\"Gerçek\", fontweight=\"bold\")\n",
    "plt.show()"
   ]
  },
  {
   "cell_type": "markdown",
   "id": "48b81641",
   "metadata": {},
   "source": [
    "Confusion matrix ile hangi tahminlerin doğru, hangilerinin yanlış olduğunu net olarak görüyoruz:\n",
    "\n",
    "-- 91 kişi gerçekten ölmüş ve model bunları doğru tahmin etmiş (True Negative)\n",
    "-- 60 kişi gerçekten hayatta kalmış ve model bunu da doğru tahmin etmiş (True Positive)\n",
    "-- 14 kişiyi model yanlışlıkla ölmüş diye tahmin etmiş (False Negative)\n",
    "-- 14 kişiyi de yanlışlıkla hayatta kalmış olarak tahmin etmiş (False Positive)\n",
    "\n",
    "151 kişilik test verisinde 28 hata yapılmış ve model dengeli sayılır %84"
   ]
  },
  {
   "cell_type": "code",
   "execution_count": null,
   "id": "04b61846",
   "metadata": {},
   "outputs": [
    {
     "data": {
      "image/png": "[encoded data removed]",
      "text/plain": [
       "<Figure size 600x500 with 1 Axes>"
      ]
     },
     "metadata": {},
     "output_type": "display_data"
    }
   ],
   "source": [
    "from sklearn.metrics import roc_auc_score, roc_curve\n",
    "\n",
    "y_olasilik = model.predict_proba(X_test)[:, 1]\n",
    "roc_auc = roc_auc_score(y_test, y_olasilik)\n",
    "\n",
    "fpr, tpr, threshold = roc_curve(y_test, y_olasilik)\n",
    "\n",
    "plt.figure(figsize=(6,5))\n",
    "plt.plot(fpr, tpr, label=f'AUC = {roc_auc:.2f}')\n",
    "plt.plot([0, 1], [0, 1], linestyle='--', color='gray')\n",
    "plt.xlabel('False Positive Rate', fontweight=\"bold\")\n",
    "plt.ylabel('True Positive Rate', fontweight=\"bold\")\n",
    "plt.title('ROC Curve', fontweight=\"bold\")\n",
    "plt.legend()\n",
    "plt.grid(True)\n",
    "plt.tight_layout()\n",
    "plt.show()"
   ]
  },
  {
   "cell_type": "markdown",
   "id": "0c65ca7a",
   "metadata": {},
   "source": [
    "ROC eğrisi, modelin farklı eşik değerlerinde ne kadar iyi performans gösterdiğini ölçmek için kullanılır. Eğri ne kadar sol üst köşeye yakınsa, model o kadar başarılıdır. AUC skoru 1'e ne kadar yakınsa o kadar iyidir. \n",
    "\n",
    "AUC skoru 0.90'dır ve bu model başarısının güçlü olduğunu gösterir. Hem ölen hem hayatta kalanlar yüksek oranda doğru şekilde ayırt edilmiştir.\n"
   ]
  }
 ],
 "metadata": {
  "kernelspec": {
   "display_name": "Python 3",
   "language": "python",
   "name": "python3"
  },
  "language_info": {
   "codemirror_mode": {
    "name": "ipython",
    "version": 3
   },
   "file_extension": ".py",
   "mimetype": "text/x-python",
   "name": "python",
   "nbconvert_exporter": "python",
   "pygments_lexer": "ipython3",
   "version": "3.9.6"
  }
 },
 "nbformat": 4,
 "nbformat_minor": 5
}
